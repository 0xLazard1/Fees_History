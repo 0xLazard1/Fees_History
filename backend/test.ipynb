{
 "cells": [
  {
   "cell_type": "code",
   "execution_count": 28,
   "id": "2920c12d",
   "metadata": {},
   "outputs": [],
   "source": [
    "import pandas as pd"
   ]
  },
  {
   "cell_type": "code",
   "execution_count": 30,
   "id": "ef37a363",
   "metadata": {},
   "outputs": [
    {
     "name": "stdout",
     "output_type": "stream",
     "text": [
      "1.173483136160886\n",
      "17\n",
      "Durée: 48 days 21:08:59\n"
     ]
    }
   ],
   "source": [
    "def get_stat():\n",
    "    path = 'alltx.json'\n",
    "    df = pd.read_json(path)\n",
    "    df['time'] = pd.to_datetime(df['time'])\n",
    "    print(df['value'].sum())\n",
    "    print(len(df))\n",
    "    print(f\"Durée: {df['time'].max() - df['time'].min()}\")\n",
    "\n",
    "get_stat()"
   ]
  }
 ],
 "metadata": {
  "kernelspec": {
   "display_name": "hypersync_env",
   "language": "python",
   "name": "python3"
  },
  "language_info": {
   "codemirror_mode": {
    "name": "ipython",
    "version": 3
   },
   "file_extension": ".py",
   "mimetype": "text/x-python",
   "name": "python",
   "nbconvert_exporter": "python",
   "pygments_lexer": "ipython3",
   "version": "3.12.11"
  }
 },
 "nbformat": 4,
 "nbformat_minor": 5
}
